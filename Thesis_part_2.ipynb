{
  "nbformat": 4,
  "nbformat_minor": 0,
  "metadata": {
    "kernelspec": {
      "display_name": "Python 3",
      "language": "python",
      "name": "python3"
    },
    "language_info": {
      "codemirror_mode": {
        "name": "ipython",
        "version": 3
      },
      "file_extension": ".py",
      "mimetype": "text/x-python",
      "name": "python",
      "nbconvert_exporter": "python",
      "pygments_lexer": "ipython3",
      "version": "3.6.5"
    },
    "colab": {
      "name": "Thesis_part_2.ipynb",
      "provenance": [],
      "collapsed_sections": []
    },
    "accelerator": "GPU"
  },
  "cells": [
    {
      "cell_type": "code",
      "metadata": {
        "id": "5KDOoxhKPy8W",
        "colab_type": "code",
        "outputId": "25d4febb-811c-439c-e9f6-7a900b2dfa13",
        "colab": {
          "base_uri": "https://localhost:8080/",
          "height": 124
        }
      },
      "source": [
        "from google.colab import drive\n",
        "drive.mount('/content/drive')"
      ],
      "execution_count": 0,
      "outputs": [
        {
          "output_type": "stream",
          "text": [
            "Go to this URL in a browser: https://accounts.google.com/o/oauth2/auth?client_id=947318989803-6bn6qk8qdgf4n4g3pfee6491hc0brc4i.apps.googleusercontent.com&redirect_uri=urn%3aietf%3awg%3aoauth%3a2.0%3aoob&response_type=code&scope=email%20https%3a%2f%2fwww.googleapis.com%2fauth%2fdocs.test%20https%3a%2f%2fwww.googleapis.com%2fauth%2fdrive%20https%3a%2f%2fwww.googleapis.com%2fauth%2fdrive.photos.readonly%20https%3a%2f%2fwww.googleapis.com%2fauth%2fpeopleapi.readonly\n",
            "\n",
            "Enter your authorization code:\n",
            "··········\n",
            "Mounted at /content/drive\n"
          ],
          "name": "stdout"
        }
      ]
    },
    {
      "cell_type": "code",
      "metadata": {
        "id": "Vt8QjuyqINlA",
        "colab_type": "code",
        "outputId": "4b3fa10f-5107-4c76-ef8a-ca2f82e7030d",
        "colab": {
          "base_uri": "https://localhost:8080/",
          "height": 35
        }
      },
      "source": [
        "import torch\n",
        "import torch.nn as nn\n",
        "import torch.nn.functional as F\n",
        "import torchvision\n",
        "import torchvision.transforms as transforms\n",
        "import torch.utils.data as data \n",
        "import torch.optim as optim\n",
        "import numpy as np\n",
        "import matplotlib.pyplot as plt\n",
        "from tqdm import tqdm_notebook\n",
        "import os\n",
        "from os.path import join, dirname, exists\n",
        "import matplotlib.pyplot as plt\n",
        "import pickle\n",
        "from torchvision.utils import make_grid\n",
        "\n",
        "torch.cuda.is_available() # Yaah! We can use GPU now."
      ],
      "execution_count": 0,
      "outputs": [
        {
          "output_type": "execute_result",
          "data": {
            "text/plain": [
              "True"
            ]
          },
          "metadata": {
            "tags": []
          },
          "execution_count": 4
        }
      ]
    },
    {
      "cell_type": "code",
      "metadata": {
        "id": "kKLVHsIOpoLG",
        "colab_type": "code",
        "colab": {}
      },
      "source": [
        "def savefig(fname, show_figure=True):\n",
        "    if not exists(dirname(fname)):\n",
        "        os.makedirs(dirname(fname))\n",
        "    plt.tight_layout()\n",
        "    plt.savefig(fname)\n",
        "    if show_figure:\n",
        "        plt.show()\n",
        "\n",
        "def save_training_plot(train_losses, test_losses, title, fname):\n",
        "    plt.figure()\n",
        "    n_epochs = len(test_losses) - 1\n",
        "    x_train = np.linspace(0, n_epochs, len(train_losses))\n",
        "    x_test = np.arange(n_epochs + 1)\n",
        "\n",
        "    plt.plot(x_train, train_losses, label=\"train loss\")\n",
        "    plt.plot(x_test, test_losses, label='test_losses')\n",
        "    plt.legend()\n",
        "    plt.title(title)\n",
        "    plt.xlabel('Epoch')\n",
        "    plt.ylabel('NLL')\n",
        "    savefig(fname)\n",
        "\n",
        "def show_samples(samples, fname=None, nrow=10, title='Samples'):\n",
        "    samples = (torch.FloatTensor(samples) / 255).permute(0, 3, 1, 2)\n",
        "    grid_img = make_grid(samples, nrow=nrow)\n",
        "    plt.figure()\n",
        "    plt.title(title)\n",
        "    plt.imshow(grid_img.permute(1, 2, 0))\n",
        "    plt.axis('off')\n",
        "\n",
        "    if fname is not None:\n",
        "        savefig(fname)\n",
        "    else:\n",
        "        plt.show()\n",
        "\n",
        "def load_pickled_data(fname, include_labels=False):\n",
        "    with open(fname, 'rb') as f:\n",
        "        data = pickle.load(f)\n",
        "\n",
        "    train_data, test_data = data['train'], data['test']\n",
        "    if 'mnist.pkl' or 'shapes.pkl' in fname:\n",
        "        train_data = (train_data > 127.5).astype('uint8')\n",
        "        test_data = (test_data > 127.5).astype('uint8')\n",
        "    if 'celeb.pkl' in fname:\n",
        "        train_data = train_data[:, :, :, [2, 1, 0]]\n",
        "        test_data = test_data[:, :, :, [2, 1, 0]]\n",
        "    if include_labels:\n",
        "        return train_data, test_data, data['train_labels'], data['test_labels']\n",
        "    return train_data, test_data\n",
        "\n",
        "def quantize(images, n_bits):\n",
        "    images = np.floor(images / 256. * 2 ** n_bits)\n",
        "    return images.astype('uint8')\n",
        "\n",
        "def model_save_results(dataid, model_wrapper, method):\n",
        "    if dataid == 1:\n",
        "        train_data, test_data = load_pickled_data('/content/drive/My Drive/mnist.pkl')\n",
        "        img_shape = (28, 28)\n",
        "        train_losses, test_losses, samples = model_wrapper(train_data, test_data,\n",
        "                                                           img_shape, dataid, method)\n",
        "        samples = samples.astype('float32') * 255\n",
        "\n",
        "    if dataid == 2:\n",
        "        train_data, test_data = load_pickled_data('/content/drive/My Drive/mnist_colored.pkl')\n",
        "        img_shape = (28, 28, 3)\n",
        "        train_losses, test_losses, samples = model_wrapper(train_data, test_data,\n",
        "                                                           img_shape, dataid, method)\n",
        "\n",
        "        samples = samples.astype('float32') / 3 * 255\n",
        "\n",
        "    print(f'Final Test Loss: {test_losses[-1]:.4f}')\n",
        "    save_training_plot(train_losses, test_losses, 'Dataset{dataid} Train Plot',\n",
        "                       'results/dataset{dataid}_train_plot.png')\n",
        "    show_samples(samples, 'results/dataset{dataid}_samples.png')"
      ],
      "execution_count": 0,
      "outputs": []
    },
    {
      "cell_type": "markdown",
      "metadata": {
        "id": "FbG0pnEYINlF",
        "colab_type": "text"
      },
      "source": [
        "Over the course of training, we will record the average negative log-likelihood (nats/dim) of the training data (per minibatch)\n",
        "and test data (for entire test data)."
      ]
    },
    {
      "cell_type": "code",
      "metadata": {
        "id": "MGs8QXzpINlF",
        "colab_type": "code",
        "colab": {}
      },
      "source": [
        "def train(model, train_loader, optimizer, epoch, grad_clip=None):\n",
        "    # Explicitly state our intention to train the model,\n",
        "    # since some layers may behave differently during train and test time\n",
        "    model.train()\n",
        "    train_losses = []\n",
        "    for x in range(tqdm_notebook(train_loader, desc='Batch', leave=False)):  # for each minibatch of size 128\n",
        "        x = x.cuda().contiguous() # put minibatch into GPU\n",
        "        loss = model.loss(x)\n",
        "        optimizer.zero_grad()\n",
        "        loss.backward()\n",
        "        if grad_clip:\n",
        "            # clip the gradient to be grad_clip if exceed\n",
        "            nn.utils.clip_grad_norm_(model.parameters(), grad_clip)\n",
        "        optimizer.step()\n",
        "        # loss.item() extract the loss's value as a Python float\n",
        "        train_losses.append(loss.item())\n",
        "    return train_losses\n",
        "\n",
        "\n",
        "def eval_loss(model, data_loader):\n",
        "    model.eval()\n",
        "\n",
        "    total_loss = 0\n",
        "    with torch.no_grad():\n",
        "        for x in data_loader:\n",
        "            x = x.cuda().contiguous()\n",
        "            loss = model.loss(x)\n",
        "            total_loss += loss * x.shape[0]\n",
        "        avg_loss = total_loss / len(data_loader.dataset)\n",
        "    return avg_loss.item()\n",
        "\n",
        "\n",
        "# train_args includes [epochs, lr, grad_clip]\n",
        "def train_epochs(model, train_loader, test_loader, train_args):\n",
        "    epochs, lr = train_args['epochs'], train_args['lr']\n",
        "    grad_clip = train_args.get('grad_clip', None)\n",
        "    optimizer = optim.Adam(model.parameters(), lr=lr)\n",
        "    \n",
        "    train_losses = []\n",
        "    test_losses = [eval_loss(model, test_loader)]\n",
        "    for epoch in tqdm_notebook(range(epochs), desc='Epoch', leave=False):\n",
        "        model.train()\n",
        "\n",
        "        train_losses.extend(train(model, train_loader, optimizer, epoch, grad_clip))\n",
        "        test_loss = eval_loss(model, test_loader)\n",
        "        test_losses.append(test_loss)\n",
        "        print(f'Epoch {epoch}, Test loss {test_loss:.4f}')\n",
        "\n",
        "    return train_losses, test_losses"
      ],
      "execution_count": 0,
      "outputs": []
    },
    {
      "cell_type": "code",
      "metadata": {
        "id": "aMjpa0qIINlI",
        "colab_type": "code",
        "colab": {}
      },
      "source": [
        "class maskedConv2d(nn.Conv2d):\n",
        "    # *args may includes usual arguments as in_channels, out_channels, kernel_size, stride, padding and so on\n",
        "    def __init__(self, mask_type, *args, color=False, condition_size=None, **kwargs):\n",
        "        assert mask_type in {\"A\", \"B\"}\n",
        "        super().__init__(*args, **kwargs)  # initialize some kernels\n",
        "        self.color = color\n",
        "        self.condition_size = condition_size\n",
        "        self.register_buffer(\"mask\", torch.zeros_like(self.weight))\n",
        "        self.create_mask(mask_type)\n",
        "\n",
        "        # cond could be a target label or an image\n",
        "        if condition_size:\n",
        "            if len(condition_size) == 1:\n",
        "                self.cond_func = nn.Linear(\n",
        "                    condition_size[0], self.out_channels)\n",
        "            else:\n",
        "                self.cond_func = nn.Conv2d(\n",
        "                    condition_size[0], self.out_channels, kernel_size=3, padding=1)\n",
        "\n",
        "    def forward(self, x, cond=None):\n",
        "        batch_size = x.shape[0]\n",
        "        out = F.conv2d(input=x, weight=self.weight*self.mask, bias=self.bias, stride=self.stride,\n",
        "                       padding=self.padding, dilation=self.dilation, groups=self.groups)\n",
        "        if self.condition_size:\n",
        "            if len(self.condition_size) == 1:\n",
        "                out += self.cond_func(cond).view(batch_size, -1, 1, 1)\n",
        "            else:\n",
        "                out += self.cond_func(cond)\n",
        "        return out\n",
        "    \n",
        "    def create_mask(self, mask_type):\n",
        "        k = self.kernel_size[0]\n",
        "        self.mask[:, :, :k // 2] = 1\n",
        "        self.mask[:, :, k // 2, :k // 2] = 1\n",
        "        if self.color:\n",
        "            assert self.in_channels % 3 == 0 and self.out_channels % 3 == 0\n",
        "            one_third_in, one_third_out = self.in_channels // 3, self.out_channels // 3\n",
        "            if mask_type == 'B':\n",
        "                self.mask[:one_third_out, :one_third_in, k // 2, k // 2] = 1\n",
        "                self.mask[one_third_out:2*one_third_out, :2*one_third_in, k // 2, k // 2] = 1\n",
        "                self.mask[2*one_third_out:, :, k // 2, k // 2] = 1\n",
        "            else:\n",
        "                self.mask[one_third_out:2*one_third_out, :one_third_in, k // 2, k // 2] = 1\n",
        "                self.mask[2*one_third_out:, :2*one_third_in, k // 2, k // 2] = 1\n",
        "        else:\n",
        "            if mask_type == 'B':\n",
        "                self.mask[:, :, k // 2, k // 2] = 1\n",
        "\n",
        "class ResidualBlock(nn.Module):\n",
        "    def __init__(self, in_channels, **kwargs):  # kwargs include color and condition_size\n",
        "        super().__init__()\n",
        "        self.block = nn.ModuleList([\n",
        "            nn.ReLU(),\n",
        "            maskedConv2d('B', in_channels, in_channels//2, 1, **kwargs),\n",
        "            nn.ReLU(),\n",
        "            maskedConv2d('B', in_channels//2, in_channels//2, 7, padding = 3, **kwargs),\n",
        "            nn.ReLU(),\n",
        "            maskedConv2d('B', in_channels//2, in_channels, 1, **kwargs)\n",
        "        ])\n",
        "\n",
        "    def forward(self, x, cond=None):\n",
        "        out = x\n",
        "        for layer in self.block:\n",
        "            if isinstance(layer, maskedConv2d):\n",
        "                out = layer(out, cond)\n",
        "            else:\n",
        "                out = layer(out)\n",
        "        return out + x\n",
        "\n",
        "\n",
        "class LayerNorm(nn.LayerNorm):\n",
        "    def __init__(self, color, *args, **kwargs):\n",
        "        super().__init__(*args, **kwargs)\n",
        "        self.color = color\n",
        "\n",
        "    def forward(self, x):\n",
        "        x = x.permute(0, 2, 3, 1).contiguous()\n",
        "        x_shape = x.shape\n",
        "        if self.color:\n",
        "            x = x.contiguous().view(*(x_shape[:-1] + (3, -1)))\n",
        "        x = super().forward(x)\n",
        "        if self.color:\n",
        "            x = x.view(*x_shape)\n",
        "        return x.permute(0, 3, 1, 2).contiguous()\n",
        "\n",
        "\n",
        "class PixelCNN(nn.Module):\n",
        "    def __init__(self, input_shape, n_colors, n_filters=64, kernel_size=7,\n",
        "                 n_layers=5, color=False, condition_size=None, res_connect=False):\n",
        "        assert n_layers >= 2\n",
        "        super().__init__()\n",
        "        n_channels = input_shape[0]\n",
        "\n",
        "        kwargs = dict(condition_size=condition_size, color=color)\n",
        "\n",
        "        if res_connect:\n",
        "            block = lambda: ResidualBlock(n_filters, **kwargs)\n",
        "        else:\n",
        "            block = lambda: maskedConv2d('B', n_filters, n_filters, kernel_size=kernel_size,\n",
        "                                        padding=kernel_size//2, **kwargs)\n",
        "\n",
        "        model = nn.ModuleList([maskedConv2d('A', n_channels, n_filters, kernel_size=kernel_size,\n",
        "                                            padding=kernel_size//2, **kwargs)])\n",
        "\n",
        "        for _ in range(n_layers):\n",
        "            if color:\n",
        "                model.append(LayerNorm(color, n_filters//3))\n",
        "            else:\n",
        "                model.append(LayerNorm(color, n_filters))\n",
        "            model.extend([nn.ReLU(), block()])\n",
        "        model.extend([nn.ReLU(), maskedConv2d(\n",
        "            'B', n_filters, n_filters, 1, **kwargs)])\n",
        "        model.extend([nn.ReLU(), maskedConv2d(\n",
        "            'B', n_filters, n_colors*n_channels, 1, **kwargs)])\n",
        "\n",
        "        if condition_size:\n",
        "            if len(condition_size) == 1:\n",
        "                self.cond_func = lambda x: x\n",
        "            else:\n",
        "                self.cond_func = nn.Sequential(nn.Conv2d(condition_size[0], n_filters, 3, padding=1),\n",
        "                                               nn.ReLU(),\n",
        "                                               nn.Conv2d(\n",
        "                                                   n_filters, n_filters, 3, padding=1),\n",
        "                                               nn.ReLU(),\n",
        "                                               nn.Conv2d(\n",
        "                                                   n_filters, n_filters, 3, padding=1),\n",
        "                                               nn.ReLU())\n",
        "        self.net = model\n",
        "        self.input_shape = input_shape\n",
        "        self.n_colors = n_colors\n",
        "        self.n_channels = n_channels\n",
        "        self.color = color\n",
        "        self.condition_size = condition_size\n",
        "\n",
        "    def forward(self, x, cond=None):\n",
        "        batch_size = x.shape[0]\n",
        "        out = (x.float() / (self.n_colors - 1) - 0.5) / 0.5\n",
        "        if self.condition_size:\n",
        "            cond = self.cond_func(cond)\n",
        "        for layer in self.net:\n",
        "            if isinstance(layer, maskedConv2d) or isinstance(layer, ResidualBlock):\n",
        "                out = layer(out, cond=cond)\n",
        "            else:\n",
        "                out = layer(out)\n",
        "\n",
        "        return out.view(batch_size, self.n_channels, self.n_colors, *self.input_shape[1:]).permute(0, 2, 1, 3, 4)\n",
        "        \n",
        "\n",
        "    def loss(self, x, cond=None):\n",
        "        return F.cross_entropy(self(x, cond=cond), x.long())\n",
        "\n",
        "    def sample(self, n, cond=None):\n",
        "        samples = torch.zeros(n, *self.input_shape).cuda()\n",
        "        with torch.no_grad():\n",
        "            for h in range(self.input_shape[1]):\n",
        "                for w in range(self.input_shape[2]):\n",
        "                    for c in range(self.input_shape[0]):\n",
        "                        logits = self(samples, cond=cond)[\n",
        "                            :, :, c, h, w]\n",
        "                        probs = F.softmax(logits, dim=1)\n",
        "                        samples[:, c, h, w] = torch.multinomial(probs, 1).squeeze(-1)\n",
        "        return samples.permute(0, 2, 3, 1).cpu().numpy()"
      ],
      "execution_count": 0,
      "outputs": []
    },
    {
      "cell_type": "code",
      "metadata": {
        "id": "6fMCAMF1INlK",
        "colab_type": "code",
        "colab": {}
      },
      "source": [
        "def model_wrapper(train_data, test_data, image_shape, dataid, method):\n",
        "    train_data = np.transpose(train_data, (0, 3, 1, 2))\n",
        "    test_data = np.transpose(test_data, (0, 3, 1, 2))\n",
        "    if dataid == 1:\n",
        "        H, W = image_shape\n",
        "        if method == \"PixelCNN\":\n",
        "            model = PixelCNN((1, H, W), 2, n_layers=5).cuda()\n",
        "        elif method == \"GatedPixelCNN\":\n",
        "            model = GatedPixelCNN((1, H, W), 2, n_filters=64, n_layers=5).cuda()\n",
        "        train_args=dict(epochs=10, lr=1e-3)\n",
        "    if dataid == 2:\n",
        "        H, W, C = image_shape\n",
        "        if method == \"PixelCNN\":\n",
        "            model = PixelCNN((C, H, W), 4, n_filters=120, n_layers=8,\n",
        "                            res_connect=True, color=True).cuda()\n",
        "        elif method == \"GatedPixelCNN\":\n",
        "            model = GatedPixelCNN((C, H, W), 4, n_filters=120, n_layers=8).cuda()\n",
        "        train_args = dict(epochs=15, lr=1e-3, grad_clip=1)\n",
        "    train_loader = data.DataLoader(\n",
        "        train_data, batch_size=128, shuffle=True)\n",
        "    test_loader = data.DataLoader(test_data, batch_size=128)\n",
        "    train_losses, test_losses = train_epochs(model, train_loader, test_loader,\n",
        "                                             train_args)\n",
        "    samples = model.sample(100)\n",
        "    return train_losses, test_losses, samples"
      ],
      "execution_count": 0,
      "outputs": []
    },
    {
      "cell_type": "code",
      "metadata": {
        "id": "NcHCess_INlP",
        "colab_type": "code",
        "colab": {}
      },
      "source": [
        "class multiLayerNorm(nn.Module):\n",
        "    def __init__(self, n_filters):\n",
        "        super().__init__()\n",
        "        self.LayerNorm_v = LayerNorm(False, n_filters)\n",
        "        self.LayerNorm_h = LayerNorm(False, n_filters)\n",
        "    \n",
        "    def forward(self, x):\n",
        "        vx, hx = x.chunk(2, dim=1) # Split according to channels\n",
        "        vx = self.LayerNorm_v(vx); hx = self.LayerNorm_h(hx)\n",
        "        return torch.cat((vx, hx), dim=1)\n",
        "\n",
        "class gatedConv2d(nn.Module):\n",
        "    def __init__(self, mask_type, in_channels, out_channels, kW=7, \n",
        "                 padding=3):\n",
        "        super().__init__()\n",
        "\n",
        "        self.v = nn.Conv2d(in_channels, 2*out_channels, \n",
        "                                 kernel_size=kW, padding=padding, bias=False)\n",
        "        self.h = nn.Conv2d(in_channels, 2*out_channels, \n",
        "                                 kernel_size=(1, kW), padding=(0, padding), bias=False)\n",
        "        self.v_h = nn.Conv2d(2*out_channels, 2*out_channels, kernel_size=1, bias=False)\n",
        "        self.h_h = nn.Conv2d(out_channels, out_channels, kernel_size=1, bias=False)\n",
        "        \n",
        "        self.register_buffer('vmask', torch.ones_like(self.v.weight))\n",
        "        self.register_buffer('hmask', torch.ones_like(self.h.weight))\n",
        "        self.vmask[:, :, kW//2+1:, :] = 0\n",
        "        self.hmask[:, :, :, kW//2+1:] = 0\n",
        "        if mask_type == 'A':\n",
        "            self.hmask[:, :, :, kW//2] = 0\n",
        "\n",
        "    def down_shift(self, x):\n",
        "        x = x[:, :, :-1, :]\n",
        "        pad = nn.ZeroPad2d((0, 0, 1, 0))\n",
        "        return pad(x)\n",
        "\n",
        "    def forward(self, x):\n",
        "        # First, we split x into two halves, each corresponding seperately to v and h\n",
        "        vx, hx = x.chunk(2, dim=1)\n",
        "        self.v.weight.data *= self.vmask\n",
        "        self.h.weight.data *= self.hmask\n",
        "        vx = self.v(vx)\n",
        "        hx_res = self.h(hx) + self.v_h(self.down_shift(vx))\n",
        "        vx_g, vx_c = vx.chunk(2, dim=1)\n",
        "        vx = torch.sigmoid(vx_g) * torch.tanh(vx_c)\n",
        "        hx_res_g, hx_res_c = hx_res.chunk(2, dim=1)\n",
        "        hx_res = self.h_h(torch.tanh(hx_res_c) * torch.sigmoid(hx_res_g))\n",
        "        hx += hx_res \n",
        "        return torch.cat((vx, hx), dim=1) \n",
        "\n",
        "class GatedPixelCNN(nn.Module):\n",
        "    def __init__(self, input_shape, n_colors, n_filters=120, kernel_size=7, n_layers=6):\n",
        "        super().__init__()\n",
        "        n_channels = input_shape[0]\n",
        "        block = lambda: gatedConv2d(\"B\", n_filters, n_filters, kW=kernel_size, padding=kernel_size//2)\n",
        "        self.in_conv = maskedConv2d('A', n_channels, n_filters, kernel_size=kernel_size,\n",
        "                                            padding=kernel_size//2)\n",
        "        model = []\n",
        "        for _ in range(n_layers):\n",
        "            model.extend([nn.ReLU(), block()])\n",
        "            model.append(multiLayerNorm(n_filters))\n",
        "        self.out_conv = maskedConv2d('B', n_filters, n_colors*n_channels, 7, padding = 3)\n",
        "        self.net = nn.Sequential(*model)\n",
        "        self.input_shape = input_shape\n",
        "        self.n_colors = n_colors\n",
        "        self.n_channels = n_channels\n",
        "    \n",
        "    def forward(self, x):\n",
        "        batch_size = x.shape[0]\n",
        "        out = (x.float() / (self.n_colors - 1) - 0.5) / 0.5\n",
        "        out = self.in_conv(out)\n",
        "        out = self.net(torch.cat((out, out), dim=1)).chunk(2, dim=1)[1]\n",
        "        out = self.out_conv(out)\n",
        "        return out.view(batch_size, self.n_channels, self.n_colors, *self.input_shape[1:]).permute(0, 2, 1, 3, 4)\n",
        "    \n",
        "    def loss(self, x, cond=None):\n",
        "        return F.cross_entropy(self(x), x.long())\n",
        "\n",
        "    def sample(self, n):\n",
        "        samples = torch.zeros(n, *self.input_shape).cuda()\n",
        "        with torch.no_grad():\n",
        "            for h in range(self.input_shape[1]):\n",
        "                for w in range(self.input_shape[2]):\n",
        "                    for c in range(self.input_shape[0]):\n",
        "                        logits = self(samples)[\n",
        "                            :, :, c, h, w]\n",
        "                        probs = F.softmax(logits, dim=1)\n",
        "                        samples[:, c, h, w] = torch.multinomial(probs, 1).squeeze(-1)\n",
        "        return samples.permute(0, 2, 3, 1).cpu().numpy()"
      ],
      "execution_count": 0,
      "outputs": []
    },
    {
      "cell_type": "code",
      "metadata": {
        "id": "Kh1tOFxOINlN",
        "colab_type": "code",
        "outputId": "dbcff38a-59f8-474c-c659-12dc988b346f",
        "colab": {
          "base_uri": "https://localhost:8080/",
          "height": 930
        }
      },
      "source": [
        "model_save_results(1, model_wrapper, method=\"GatedPixelCNN\")"
      ],
      "execution_count": 0,
      "outputs": [
        {
          "output_type": "stream",
          "text": [
            "Epoch 0, Train Loss 0.7952:   0%|          | 128/60000 [00:00<01:51, 536.15it/s]\n",
            "  0%|          | 0/60000 [00:00<?, ?it/s]"
          ],
          "name": "stderr"
        },
        {
          "output_type": "stream",
          "text": [
            "Epoch 0, Test loss 0.0808\n"
          ],
          "name": "stdout"
        },
        {
          "output_type": "stream",
          "text": [
            "Epoch 1, Train Loss 0.0787:   0%|          | 128/60000 [00:00<01:51, 538.21it/s]\n",
            "  0%|          | 0/60000 [00:00<?, ?it/s]"
          ],
          "name": "stderr"
        },
        {
          "output_type": "stream",
          "text": [
            "Epoch 1, Test loss 0.0765\n"
          ],
          "name": "stdout"
        },
        {
          "output_type": "stream",
          "text": [
            "Epoch 2, Train Loss 0.0768:   0%|          | 128/60000 [00:00<01:52, 534.03it/s]\n",
            "  0%|          | 0/60000 [00:00<?, ?it/s]"
          ],
          "name": "stderr"
        },
        {
          "output_type": "stream",
          "text": [
            "Epoch 2, Test loss 0.0756\n"
          ],
          "name": "stdout"
        },
        {
          "output_type": "stream",
          "text": [
            "Epoch 3, Train Loss 0.0760:   0%|          | 128/60000 [00:00<01:51, 534.89it/s]\n",
            "  0%|          | 0/60000 [00:00<?, ?it/s]"
          ],
          "name": "stderr"
        },
        {
          "output_type": "stream",
          "text": [
            "Epoch 3, Test loss 0.0740\n"
          ],
          "name": "stdout"
        },
        {
          "output_type": "stream",
          "text": [
            "Epoch 4, Train Loss 0.0738:   0%|          | 128/60000 [00:00<01:50, 540.06it/s]\n",
            "  0%|          | 0/60000 [00:00<?, ?it/s]"
          ],
          "name": "stderr"
        },
        {
          "output_type": "stream",
          "text": [
            "Epoch 4, Test loss 0.0731\n"
          ],
          "name": "stdout"
        },
        {
          "output_type": "stream",
          "text": [
            "Epoch 5, Train Loss 0.0663:   0%|          | 128/60000 [00:00<01:51, 535.14it/s]\n",
            "  0%|          | 0/60000 [00:00<?, ?it/s]"
          ],
          "name": "stderr"
        },
        {
          "output_type": "stream",
          "text": [
            "Epoch 5, Test loss 0.0734\n"
          ],
          "name": "stdout"
        },
        {
          "output_type": "stream",
          "text": [
            "Epoch 6, Train Loss 0.0756:   0%|          | 128/60000 [00:00<01:51, 538.16it/s]\n",
            "  0%|          | 0/60000 [00:00<?, ?it/s]"
          ],
          "name": "stderr"
        },
        {
          "output_type": "stream",
          "text": [
            "Epoch 6, Test loss 0.0724\n"
          ],
          "name": "stdout"
        },
        {
          "output_type": "stream",
          "text": [
            "Epoch 7, Train Loss 0.0753:   0%|          | 128/60000 [00:00<01:50, 539.86it/s]\n",
            "  0%|          | 0/60000 [00:00<?, ?it/s]"
          ],
          "name": "stderr"
        },
        {
          "output_type": "stream",
          "text": [
            "Epoch 7, Test loss 0.0719\n"
          ],
          "name": "stdout"
        },
        {
          "output_type": "stream",
          "text": [
            "Epoch 8, Train Loss 0.0700:   0%|          | 128/60000 [00:00<01:50, 539.71it/s]\n",
            "  0%|          | 0/60000 [00:00<?, ?it/s]"
          ],
          "name": "stderr"
        },
        {
          "output_type": "stream",
          "text": [
            "Epoch 8, Test loss 0.0719\n"
          ],
          "name": "stdout"
        },
        {
          "output_type": "stream",
          "text": [
            "Epoch 9, Train Loss 0.0711:   0%|          | 128/60000 [00:00<01:50, 539.43it/s]\n"
          ],
          "name": "stderr"
        },
        {
          "output_type": "stream",
          "text": [
            "Epoch 9, Test loss 0.0720\n",
            "Final Test Loss: 0.0720\n"
          ],
          "name": "stdout"
        },
        {
          "output_type": "display_data",
          "data": {
            "image/png": "[encoded data removed]",
            "text/plain": [
              "<Figure size 432x288 with 1 Axes>"
            ]
          },
          "metadata": {
            "tags": [],
            "needs_background": "light"
          }
        },
        {
          "output_type": "display_data",
          "data": {
            "image/png": "[encoded data removed]",
            "text/plain": [
              "<Figure size 432x288 with 1 Axes>"
            ]
          },
          "metadata": {
            "tags": [],
            "needs_background": "light"
          }
        }
      ]
    }
  ]
}